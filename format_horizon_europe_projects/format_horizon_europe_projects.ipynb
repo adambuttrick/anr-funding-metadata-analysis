{
 "cells": [
  {
   "cell_type": "code",
   "execution_count": 5,
   "id": "fa3952b1",
   "metadata": {},
   "outputs": [],
   "source": [
    "import numpy as np\n",
    "import pandas as pd"
   ]
  },
  {
   "cell_type": "code",
   "execution_count": null,
   "id": "65273ad6",
   "metadata": {},
   "outputs": [],
   "source": [
    "# Projects metadata is available here https://data.enseignementsup-recherche.gouv.fr/explore/dataset/fr-esr-all-projects-signed-informations/table/?disjunctive.free_keywords&disjunctive.region_1_name&disjunctive.regional_unit_name"
   ]
  },
  {
   "cell_type": "code",
   "execution_count": 6,
   "id": "98460581",
   "metadata": {},
   "outputs": [],
   "source": [
    "file = \"projects_reporting_publications.json\"\n",
    "publications = pd.read_json(file).rename(columns= {\"projectNbr\": \"funder_code\", \"publicationTitle\": \"title\", \"submitted_date\": \"publishedYear\"})[[\"funder_code\", \"doi\", \"title\", \"publishedYear\"]]\n",
    "publications[\"hal_id\"] = np.nan\n",
    "publications.to_csv(\"projects_reporting_publications.csv\", encoding='utf-8')"
   ]
  }
 ],
 "metadata": {
  "kernelspec": {
   "display_name": "Python 3",
   "language": "python",
   "name": "python3"
  },
  "language_info": {
   "codemirror_mode": {
    "name": "ipython",
    "version": 3
   },
   "file_extension": ".py",
   "mimetype": "text/x-python",
   "name": "python",
   "nbconvert_exporter": "python",
   "pygments_lexer": "ipython3",
   "version": "3.10.12"
  }
 },
 "nbformat": 4,
 "nbformat_minor": 5
}
